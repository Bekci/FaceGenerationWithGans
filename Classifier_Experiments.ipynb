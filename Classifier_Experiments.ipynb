{
 "cells": [
  {
   "cell_type": "code",
   "execution_count": 1,
   "metadata": {},
   "outputs": [
    {
     "name": "stderr",
     "output_type": "stream",
     "text": [
      "Using TensorFlow backend.\n"
     ]
    }
   ],
   "source": [
    "import sys\n",
    "import pickle\n",
    "\n",
    "import numpy as np\n",
    "import random\n",
    "    \n",
    "from vgg_face import VGG16, preprocess_input\n",
    "from keras.callbacks import Callback\n",
    "from keras.callbacks import ModelCheckpoint, EarlyStopping\n",
    "\n",
    "from keras import Sequential\n",
    "from keras.layers import Dense, Dropout\n",
    "from keras.optimizers import Adam\n",
    "from keras.models import load_model"
   ]
  },
  {
   "cell_type": "code",
   "execution_count": 2,
   "metadata": {},
   "outputs": [],
   "source": [
    "from keras.preprocessing.image import ImageDataGenerator"
   ]
  },
  {
   "cell_type": "code",
   "execution_count": 3,
   "metadata": {},
   "outputs": [],
   "source": [
    "def calculate_metrics(y_pred, y_true):\n",
    "    acc = sum(y_pred == y_true) / len(y_pred)\n",
    "    # Index of real images\n",
    "    ind_gen = y_true == 1\n",
    "    # Index of GAN images\n",
    "    ind_imp = y_true == 0\n",
    "    \n",
    "    num_real = sum(ind_gen)\n",
    "    num_gan = sum(ind_imp)\n",
    "    # From the real images how many predicted as GAN\n",
    "    num_missly_gan = sum(y_pred[ind_gen] == 0)\n",
    "    # From the gan images how many predicted as real\n",
    "    num_missly_real = sum(y_pred[ind_imp] == 1)\n",
    "    \n",
    "    print(\"False Acceptance Rate(FAR): {}\".format(100 * num_missly_gan / num_gan))\n",
    "    \n",
    "    print(\"False Rejectance Rate(FRR): {}\".format(100 *num_missly_real / num_real))\n",
    "    \n",
    "    print(\"Accuracy: {}\".format(100 * acc))"
   ]
  },
  {
   "cell_type": "code",
   "execution_count": 4,
   "metadata": {},
   "outputs": [
    {
     "name": "stderr",
     "output_type": "stream",
     "text": [
      "C:\\Users\\Burak\\AppData\\Local\\Programs\\Python\\Python36\\lib\\site-packages\\keras\\engine\\saving.py:292: UserWarning: No training configuration found in save file: the model was *not* compiled. Compile it manually.\n",
      "  warnings.warn('No training configuration found in save file: '\n"
     ]
    }
   ],
   "source": [
    "from keras.models import load_model\n",
    "\n",
    "vgg_model = load_model('trained_vgg.h5')"
   ]
  },
  {
   "cell_type": "code",
   "execution_count": 5,
   "metadata": {},
   "outputs": [
    {
     "ename": "NameError",
     "evalue": "name 'tester_model' is not defined",
     "output_type": "error",
     "traceback": [
      "\u001b[1;31m---------------------------------------------------------------------------\u001b[0m",
      "\u001b[1;31mNameError\u001b[0m                                 Traceback (most recent call last)",
      "\u001b[1;32m<ipython-input-5-0d8f00245cc6>\u001b[0m in \u001b[0;36m<module>\u001b[1;34m\u001b[0m\n\u001b[1;32m----> 1\u001b[1;33m \u001b[0mtester_model\u001b[0m\u001b[1;33m.\u001b[0m\u001b[0msummary\u001b[0m\u001b[1;33m(\u001b[0m\u001b[1;33m)\u001b[0m\u001b[1;33m\u001b[0m\u001b[0m\n\u001b[0m",
      "\u001b[1;31mNameError\u001b[0m: name 'tester_model' is not defined"
     ]
    }
   ],
   "source": [
    "tester_model.summary()"
   ]
  },
  {
   "cell_type": "code",
   "execution_count": 5,
   "metadata": {},
   "outputs": [],
   "source": [
    "image_datagen = ImageDataGenerator(preprocessing_function=preprocess_input,validation_split=0.2)"
   ]
  },
  {
   "cell_type": "code",
   "execution_count": 6,
   "metadata": {},
   "outputs": [
    {
     "name": "stdout",
     "output_type": "stream",
     "text": [
      "Found 8100 images belonging to 2 classes.\n",
      "Found 2025 images belonging to 2 classes.\n"
     ]
    }
   ],
   "source": [
    "train_generator = image_datagen.flow_from_directory(\n",
    "  'train_128',\n",
    "  target_size=(128, 128),\n",
    "  color_mode='rgb',\n",
    "  batch_size=32,\n",
    "  class_mode='categorical',\n",
    "  shuffle=True,\n",
    "  subset='training'\n",
    ")\n",
    "\n",
    "validation_generator = image_datagen.flow_from_directory(\n",
    "  'train_128',\n",
    "  target_size=(128, 128),\n",
    "  color_mode='rgb',\n",
    "  batch_size=32,\n",
    "  class_mode='categorical',\n",
    "  subset='validation'\n",
    ")"
   ]
  },
  {
   "cell_type": "code",
   "execution_count": 7,
   "metadata": {},
   "outputs": [],
   "source": [
    "data = []\n",
    "labels = []\n",
    "gen_iter = 0\n",
    "max_iter = train_generator.samples // train_generator.batch_size\n",
    "for d, l in train_generator:\n",
    "    data.append(vgg_model.predict(d))\n",
    "    labels.append(np.argmax(l, axis=1))\n",
    "    gen_iter += 1\n",
    "    if gen_iter == max_iter:\n",
    "        break"
   ]
  },
  {
   "cell_type": "code",
   "execution_count": 8,
   "metadata": {},
   "outputs": [],
   "source": [
    "data = np.array(data).reshape((-1,512))\n",
    "labels = np.array(labels).reshape(-1)"
   ]
  },
  {
   "cell_type": "code",
   "execution_count": 9,
   "metadata": {},
   "outputs": [],
   "source": [
    "val_data = []\n",
    "val_labels = []\n",
    "gen_iter = 0\n",
    "max_iter = validation_generator.samples // validation_generator.batch_size\n",
    "for d, l in validation_generator:\n",
    "    val_data.append(vgg_model.predict(d))\n",
    "    val_labels.append(np.argmax(l, axis=1))\n",
    "    gen_iter += 1\n",
    "    if gen_iter == max_iter:\n",
    "        break"
   ]
  },
  {
   "cell_type": "code",
   "execution_count": 10,
   "metadata": {},
   "outputs": [],
   "source": [
    "val_data = np.array(val_data).reshape((-1,512))\n",
    "val_labels = np.array(val_labels).reshape(-1)"
   ]
  },
  {
   "cell_type": "code",
   "execution_count": 11,
   "metadata": {},
   "outputs": [
    {
     "name": "stdout",
     "output_type": "stream",
     "text": [
      "Found 5183 images belonging to 2 classes.\n"
     ]
    }
   ],
   "source": [
    "test_generator = image_datagen.flow_from_directory(\n",
    "  'test_128',\n",
    "  target_size=(128, 128),\n",
    "  color_mode='rgb',\n",
    "  batch_size=32,\n",
    "  class_mode='categorical',\n",
    ")"
   ]
  },
  {
   "cell_type": "code",
   "execution_count": 12,
   "metadata": {},
   "outputs": [],
   "source": [
    "test_data = []\n",
    "test_labels = []\n",
    "gen_iter = 0\n",
    "max_iter = test_generator.samples // test_generator.batch_size\n",
    "for d, l in test_generator:\n",
    "    test_data.append(vgg_model.predict(d))\n",
    "    test_labels.append(np.argmax(l, axis=1))\n",
    "    gen_iter += 1\n",
    "    if gen_iter == max_iter:\n",
    "        break"
   ]
  },
  {
   "cell_type": "code",
   "execution_count": 13,
   "metadata": {},
   "outputs": [],
   "source": [
    "test_data = np.array(test_data).reshape((-1,512))\n",
    "test_labels = np.array(test_labels).reshape(-1)"
   ]
  },
  {
   "cell_type": "code",
   "execution_count": 91,
   "metadata": {},
   "outputs": [
    {
     "name": "stdout",
     "output_type": "stream",
     "text": [
      "False Acceptance Rate(FAR): 9.028459273797841\n",
      "False Rejectance Rate(FRR): 6.41925777331996\n",
      "Accuracy: 92.26190476190477\n",
      "False Acceptance Rate(FAR): 9.45216049382716\n",
      "False Rejectance Rate(FRR): 6.015625\n",
      "Accuracy: 92.25543478260869\n"
     ]
    }
   ],
   "source": [
    "from sklearn.ensemble import RandomForestClassifier\n",
    "clf = RandomForestClassifier(n_estimators=75, max_depth=20, random_state=0)\n",
    "clf.fit(data, labels)\n",
    "predictions = clf.predict(val_data)\n",
    "calculate_metrics(predictions, val_labels)\n",
    "\n",
    "predictions = clf.predict(test_data)\n",
    "calculate_metrics(predictions, test_labels)\n"
   ]
  },
  {
   "cell_type": "code",
   "execution_count": 92,
   "metadata": {},
   "outputs": [
    {
     "name": "stdout",
     "output_type": "stream",
     "text": [
      "False Acceptance Rate(FAR): 6.280667320902846\n",
      "False Rejectance Rate(FRR): 5.2156469408224675\n",
      "Accuracy: 94.24603174603175\n",
      "False Acceptance Rate(FAR): 6.404320987654321\n",
      "False Rejectance Rate(FRR): 4.921875\n",
      "Accuracy: 94.33229813664596\n"
     ]
    }
   ],
   "source": [
    "from sklearn import svm\n",
    "clf = svm.SVC(gamma='scale')\n",
    "clf.fit(data, labels)\n",
    "predictions = clf.predict(val_data)\n",
    "calculate_metrics(predictions, val_labels)\n",
    "\n",
    "predictions = clf.predict(test_data)\n",
    "calculate_metrics(predictions, test_labels)\n"
   ]
  },
  {
   "cell_type": "code",
   "execution_count": 42,
   "metadata": {},
   "outputs": [
    {
     "name": "stdout",
     "output_type": "stream",
     "text": [
      "False Acceptance Rate(FAR): 6.366307541625857\n",
      "False Rejectance Rate(FRR): 6.231155778894473\n",
      "Accuracy: 93.70039682539682\n"
     ]
    }
   ],
   "source": [
    "from sklearn import svm\n",
    "clf = svm.SVC(kernel=\"linear\", C=0.025)\n",
    "clf.fit(data, labels)\n",
    "predictions = clf.predict(val_data)\n",
    "calculate_metrics(predictions, val_labels)"
   ]
  },
  {
   "cell_type": "code",
   "execution_count": 93,
   "metadata": {},
   "outputs": [
    {
     "name": "stdout",
     "output_type": "stream",
     "text": [
      "False Acceptance Rate(FAR): 9.126594700686947\n",
      "False Rejectance Rate(FRR): 7.021063189568706\n",
      "Accuracy: 91.91468253968253\n",
      "False Acceptance Rate(FAR): 9.760802469135802\n",
      "False Rejectance Rate(FRR): 6.6796875\n",
      "Accuracy: 91.77018633540372\n"
     ]
    }
   ],
   "source": [
    "from sklearn.neighbors import KNeighborsClassifier\n",
    "clf = KNeighborsClassifier(n_neighbors=5)\n",
    "clf.fit(data, labels)\n",
    "predictions = clf.predict(val_data)\n",
    "calculate_metrics(predictions, val_labels)\n",
    "\n",
    "predictions = clf.predict(test_data)\n",
    "calculate_metrics(predictions, test_labels)\n"
   ]
  },
  {
   "cell_type": "code",
   "execution_count": 16,
   "metadata": {},
   "outputs": [
    {
     "data": {
      "text/plain": [
       "(8096, 512)"
      ]
     },
     "execution_count": 16,
     "metadata": {},
     "output_type": "execute_result"
    }
   ],
   "source": [
    "data.shape"
   ]
  },
  {
   "cell_type": "code",
   "execution_count": 32,
   "metadata": {},
   "outputs": [],
   "source": [
    "model = Sequential()\n",
    "model.add(Dense(64, input_dim=512, activation='relu'))\n",
    "model.add(Dropout(0.25))\n",
    "model.add(Dense(128, activation='relu'))\n",
    "model.add(Dropout(0.5))\n",
    "model.add(Dense(1, activation='sigmoid'))\n",
    "adam = Adam(lr=1e-3, beta_1=0.9, beta_2=0.999, epsilon=None, decay=3e-4, amsgrad=False)\n",
    "model.compile(optimizer=adam, loss='binary_crossentropy', metrics=['accuracy'])"
   ]
  },
  {
   "cell_type": "code",
   "execution_count": 33,
   "metadata": {},
   "outputs": [],
   "source": [
    "output_model_name = 'classifier.h5'\n",
    "checkpoint = ModelCheckpoint(output_model_name,\n",
    "                             monitor='val_acc', verbose=1,\n",
    "                             save_best_only=True, save_weights_only=False,\n",
    "                             mode='auto', period=1)"
   ]
  },
  {
   "cell_type": "code",
   "execution_count": 34,
   "metadata": {},
   "outputs": [],
   "source": [
    "num_iteration_train = train_generator.n // train_generator.batch_size\n",
    "num_iteration_val = validation_generator.n // validation_generator.batch_size"
   ]
  },
  {
   "cell_type": "code",
   "execution_count": 35,
   "metadata": {},
   "outputs": [
    {
     "name": "stdout",
     "output_type": "stream",
     "text": [
      "Train on 8096 samples, validate on 2016 samples\n",
      "Epoch 1/50\n",
      "8096/8096 [==============================] - 2s 291us/step - loss: 0.3209 - acc: 0.8828 - val_loss: 0.1901 - val_acc: 0.9271\n",
      "\n",
      "Epoch 00001: val_acc improved from -inf to 0.92708, saving model to classifier.h5\n",
      "Epoch 2/50\n",
      "8096/8096 [==============================] - 2s 203us/step - loss: 0.1493 - acc: 0.9411 - val_loss: 0.1865 - val_acc: 0.9375\n",
      "\n",
      "Epoch 00002: val_acc improved from 0.92708 to 0.93750, saving model to classifier.h5\n",
      "Epoch 3/50\n",
      "8096/8096 [==============================] - 2s 226us/step - loss: 0.1252 - acc: 0.9512 - val_loss: 0.1761 - val_acc: 0.9350\n",
      "\n",
      "Epoch 00003: val_acc did not improve from 0.93750\n",
      "Epoch 4/50\n",
      "8096/8096 [==============================] - 2s 197us/step - loss: 0.1035 - acc: 0.9600 - val_loss: 0.1772 - val_acc: 0.9360\n",
      "\n",
      "Epoch 00004: val_acc did not improve from 0.93750\n",
      "Epoch 5/50\n",
      "8096/8096 [==============================] - 2s 280us/step - loss: 0.0882 - acc: 0.9653 - val_loss: 0.1847 - val_acc: 0.9405\n",
      "\n",
      "Epoch 00005: val_acc improved from 0.93750 to 0.94048, saving model to classifier.h5\n",
      "Epoch 6/50\n",
      "8096/8096 [==============================] - 2s 213us/step - loss: 0.0817 - acc: 0.9683 - val_loss: 0.1678 - val_acc: 0.9380\n",
      "\n",
      "Epoch 00006: val_acc did not improve from 0.94048\n",
      "Epoch 7/50\n",
      "8096/8096 [==============================] - 2s 239us/step - loss: 0.0752 - acc: 0.9710 - val_loss: 0.1829 - val_acc: 0.9410\n",
      "\n",
      "Epoch 00007: val_acc improved from 0.94048 to 0.94097, saving model to classifier.h5\n",
      "Epoch 8/50\n",
      "8096/8096 [==============================] - 2s 210us/step - loss: 0.0676 - acc: 0.9733 - val_loss: 0.1877 - val_acc: 0.9400\n",
      "\n",
      "Epoch 00008: val_acc did not improve from 0.94097\n",
      "Epoch 9/50\n",
      "8096/8096 [==============================] - 2s 215us/step - loss: 0.0634 - acc: 0.9754 - val_loss: 0.2161 - val_acc: 0.9320\n",
      "\n",
      "Epoch 00009: val_acc did not improve from 0.94097\n",
      "Epoch 10/50\n",
      "8096/8096 [==============================] - 2s 209us/step - loss: 0.0537 - acc: 0.9783 - val_loss: 0.2067 - val_acc: 0.9355\n",
      "\n",
      "Epoch 00010: val_acc did not improve from 0.94097\n",
      "Epoch 11/50\n",
      "8096/8096 [==============================] - 2s 225us/step - loss: 0.0468 - acc: 0.9822 - val_loss: 0.2034 - val_acc: 0.9345\n",
      "\n",
      "Epoch 00011: val_acc did not improve from 0.94097\n",
      "Epoch 12/50\n",
      "8096/8096 [==============================] - 2s 235us/step - loss: 0.0431 - acc: 0.9832 - val_loss: 0.2305 - val_acc: 0.9335\n",
      "\n",
      "Epoch 00012: val_acc did not improve from 0.94097\n",
      "Epoch 13/50\n",
      "8096/8096 [==============================] - 2s 226us/step - loss: 0.0385 - acc: 0.9846 - val_loss: 0.2385 - val_acc: 0.9345\n",
      "\n",
      "Epoch 00013: val_acc did not improve from 0.94097\n",
      "Epoch 14/50\n",
      "8096/8096 [==============================] - 2s 208us/step - loss: 0.0324 - acc: 0.9878 - val_loss: 0.2645 - val_acc: 0.9306\n",
      "\n",
      "Epoch 00014: val_acc did not improve from 0.94097\n",
      "Epoch 15/50\n",
      "8096/8096 [==============================] - 2s 219us/step - loss: 0.0314 - acc: 0.9875 - val_loss: 0.2786 - val_acc: 0.9375\n",
      "\n",
      "Epoch 00015: val_acc did not improve from 0.94097\n",
      "Epoch 16/50\n",
      "8096/8096 [==============================] - 2s 229us/step - loss: 0.0261 - acc: 0.9907 - val_loss: 0.2678 - val_acc: 0.9345\n",
      "\n",
      "Epoch 00016: val_acc did not improve from 0.94097\n",
      "Epoch 17/50\n",
      "8096/8096 [==============================] - 2s 230us/step - loss: 0.0251 - acc: 0.9906 - val_loss: 0.2878 - val_acc: 0.9330\n",
      "\n",
      "Epoch 00017: val_acc did not improve from 0.94097\n",
      "Epoch 18/50\n",
      "8096/8096 [==============================] - 2s 236us/step - loss: 0.0238 - acc: 0.9910 - val_loss: 0.2935 - val_acc: 0.9340\n",
      "\n",
      "Epoch 00018: val_acc did not improve from 0.94097\n",
      "Epoch 19/50\n",
      "8096/8096 [==============================] - 2s 202us/step - loss: 0.0243 - acc: 0.9912 - val_loss: 0.2921 - val_acc: 0.9380\n",
      "\n",
      "Epoch 00019: val_acc did not improve from 0.94097\n",
      "Epoch 20/50\n",
      "8096/8096 [==============================] - 2s 208us/step - loss: 0.0202 - acc: 0.9926 - val_loss: 0.3261 - val_acc: 0.9365\n",
      "\n",
      "Epoch 00020: val_acc did not improve from 0.94097\n",
      "Epoch 21/50\n",
      "8096/8096 [==============================] - 2s 199us/step - loss: 0.0203 - acc: 0.9917 - val_loss: 0.3300 - val_acc: 0.9400\n",
      "\n",
      "Epoch 00021: val_acc did not improve from 0.94097\n",
      "Epoch 22/50\n",
      "8096/8096 [==============================] - 2s 276us/step - loss: 0.0165 - acc: 0.9939 - val_loss: 0.3394 - val_acc: 0.9410\n",
      "\n",
      "Epoch 00022: val_acc did not improve from 0.94097\n",
      "Epoch 23/50\n",
      "8096/8096 [==============================] - 2s 224us/step - loss: 0.0160 - acc: 0.9939 - val_loss: 0.3831 - val_acc: 0.9375\n",
      "\n",
      "Epoch 00023: val_acc did not improve from 0.94097\n",
      "Epoch 24/50\n",
      "8096/8096 [==============================] - 2s 209us/step - loss: 0.0190 - acc: 0.9928 - val_loss: 0.3263 - val_acc: 0.9365\n",
      "\n",
      "Epoch 00024: val_acc did not improve from 0.94097\n",
      "Epoch 25/50\n",
      "8096/8096 [==============================] - 2s 209us/step - loss: 0.0130 - acc: 0.9953 - val_loss: 0.3602 - val_acc: 0.9365\n",
      "\n",
      "Epoch 00025: val_acc did not improve from 0.94097\n",
      "Epoch 26/50\n",
      "8096/8096 [==============================] - 2s 212us/step - loss: 0.0140 - acc: 0.9947 - val_loss: 0.3767 - val_acc: 0.9410\n",
      "\n",
      "Epoch 00026: val_acc did not improve from 0.94097\n",
      "Epoch 27/50\n",
      "8096/8096 [==============================] - 2s 220us/step - loss: 0.0158 - acc: 0.9935 - val_loss: 0.3544 - val_acc: 0.9380\n",
      "\n",
      "Epoch 00027: val_acc did not improve from 0.94097\n",
      "Epoch 28/50\n",
      "8096/8096 [==============================] - 2s 208us/step - loss: 0.0114 - acc: 0.9958 - val_loss: 0.3651 - val_acc: 0.9375\n",
      "\n",
      "Epoch 00028: val_acc did not improve from 0.94097\n",
      "Epoch 29/50\n",
      "8096/8096 [==============================] - 2s 221us/step - loss: 0.0123 - acc: 0.9952 - val_loss: 0.4076 - val_acc: 0.9425\n",
      "\n",
      "Epoch 00029: val_acc improved from 0.94097 to 0.94246, saving model to classifier.h5\n",
      "Epoch 30/50\n",
      "8096/8096 [==============================] - 2s 209us/step - loss: 0.0130 - acc: 0.9951 - val_loss: 0.4107 - val_acc: 0.9390\n",
      "\n",
      "Epoch 00030: val_acc did not improve from 0.94246\n",
      "Epoch 31/50\n",
      "8096/8096 [==============================] - 2s 215us/step - loss: 0.0159 - acc: 0.9937 - val_loss: 0.4254 - val_acc: 0.9325\n",
      "\n",
      "Epoch 00031: val_acc did not improve from 0.94246\n",
      "Epoch 32/50\n",
      "8096/8096 [==============================] - 2s 215us/step - loss: 0.0108 - acc: 0.9964 - val_loss: 0.4179 - val_acc: 0.9385\n",
      "\n",
      "Epoch 00032: val_acc did not improve from 0.94246\n",
      "Epoch 33/50\n",
      "8096/8096 [==============================] - 2s 212us/step - loss: 0.0105 - acc: 0.9954 - val_loss: 0.3983 - val_acc: 0.9370\n",
      "\n",
      "Epoch 00033: val_acc did not improve from 0.94246\n",
      "Epoch 34/50\n",
      "8096/8096 [==============================] - 2s 214us/step - loss: 0.0100 - acc: 0.9960 - val_loss: 0.4542 - val_acc: 0.9360\n",
      "\n",
      "Epoch 00034: val_acc did not improve from 0.94246\n",
      "Epoch 35/50\n",
      "8096/8096 [==============================] - 2s 224us/step - loss: 0.0084 - acc: 0.9963 - val_loss: 0.3663 - val_acc: 0.9360\n",
      "\n",
      "Epoch 00035: val_acc did not improve from 0.94246\n",
      "Epoch 36/50\n",
      "8096/8096 [==============================] - 2s 225us/step - loss: 0.0089 - acc: 0.9964 - val_loss: 0.4126 - val_acc: 0.9365\n",
      "\n",
      "Epoch 00036: val_acc did not improve from 0.94246\n",
      "Epoch 37/50\n",
      "8096/8096 [==============================] - 2s 210us/step - loss: 0.0114 - acc: 0.9958 - val_loss: 0.4052 - val_acc: 0.9390\n",
      "\n",
      "Epoch 00037: val_acc did not improve from 0.94246\n",
      "Epoch 38/50\n",
      "8096/8096 [==============================] - 2s 214us/step - loss: 0.0071 - acc: 0.9974 - val_loss: 0.4832 - val_acc: 0.9375\n",
      "\n",
      "Epoch 00038: val_acc did not improve from 0.94246\n",
      "Epoch 39/50\n",
      "8096/8096 [==============================] - 2s 214us/step - loss: 0.0091 - acc: 0.9960 - val_loss: 0.4406 - val_acc: 0.9375\n",
      "\n",
      "Epoch 00039: val_acc did not improve from 0.94246\n",
      "Epoch 40/50\n",
      "8096/8096 [==============================] - 2s 234us/step - loss: 0.0088 - acc: 0.9973 - val_loss: 0.4319 - val_acc: 0.9375\n",
      "\n",
      "Epoch 00040: val_acc did not improve from 0.94246\n",
      "Epoch 41/50\n",
      "8096/8096 [==============================] - 2s 214us/step - loss: 0.0087 - acc: 0.9972 - val_loss: 0.4481 - val_acc: 0.9410\n",
      "\n",
      "Epoch 00041: val_acc did not improve from 0.94246\n",
      "Epoch 42/50\n",
      "8096/8096 [==============================] - 2s 214us/step - loss: 0.0088 - acc: 0.9967 - val_loss: 0.4161 - val_acc: 0.9360\n",
      "\n",
      "Epoch 00042: val_acc did not improve from 0.94246\n",
      "Epoch 43/50\n"
     ]
    },
    {
     "name": "stdout",
     "output_type": "stream",
     "text": [
      "8096/8096 [==============================] - 2s 205us/step - loss: 0.0105 - acc: 0.9956 - val_loss: 0.4194 - val_acc: 0.9355\n",
      "\n",
      "Epoch 00043: val_acc did not improve from 0.94246\n",
      "Epoch 44/50\n",
      "8096/8096 [==============================] - 2s 204us/step - loss: 0.0066 - acc: 0.9969 - val_loss: 0.4711 - val_acc: 0.9400\n",
      "\n",
      "Epoch 00044: val_acc did not improve from 0.94246\n",
      "Epoch 45/50\n",
      "8096/8096 [==============================] - 2s 206us/step - loss: 0.0073 - acc: 0.9969 - val_loss: 0.4343 - val_acc: 0.9390\n",
      "\n",
      "Epoch 00045: val_acc did not improve from 0.94246\n",
      "Epoch 46/50\n",
      "8096/8096 [==============================] - 2s 197us/step - loss: 0.0077 - acc: 0.9972 - val_loss: 0.4569 - val_acc: 0.9390\n",
      "\n",
      "Epoch 00046: val_acc did not improve from 0.94246\n",
      "Epoch 47/50\n",
      "8096/8096 [==============================] - 2s 202us/step - loss: 0.0093 - acc: 0.9963 - val_loss: 0.4274 - val_acc: 0.9360\n",
      "\n",
      "Epoch 00047: val_acc did not improve from 0.94246\n",
      "Epoch 48/50\n",
      "8096/8096 [==============================] - 2s 216us/step - loss: 0.0069 - acc: 0.9969 - val_loss: 0.4749 - val_acc: 0.9385\n",
      "\n",
      "Epoch 00048: val_acc did not improve from 0.94246\n",
      "Epoch 49/50\n",
      "8096/8096 [==============================] - 2s 287us/step - loss: 0.0074 - acc: 0.9969 - val_loss: 0.4744 - val_acc: 0.9365\n",
      "\n",
      "Epoch 00049: val_acc did not improve from 0.94246\n",
      "Epoch 50/50\n",
      "8096/8096 [==============================] - 2s 277us/step - loss: 0.0101 - acc: 0.9960 - val_loss: 0.4844 - val_acc: 0.9385\n",
      "\n",
      "Epoch 00050: val_acc did not improve from 0.94246\n"
     ]
    }
   ],
   "source": [
    "image_preds = model.fit(x= data, y=labels, epochs=50, callbacks=[checkpoint], validation_data=(val_data, val_labels))"
   ]
  },
  {
   "cell_type": "code",
   "execution_count": 36,
   "metadata": {},
   "outputs": [],
   "source": [
    "pred = np.array(model.predict_on_batch(test_data) > 0.5).astype(int)"
   ]
  },
  {
   "cell_type": "code",
   "execution_count": 37,
   "metadata": {},
   "outputs": [
    {
     "name": "stdout",
     "output_type": "stream",
     "text": [
      "False Acceptance Rate(FAR): 6.947124662292551\n",
      "False Rejectance Rate(FRR): 4.373291682936353\n",
      "Accuracy: 94.33229813664596\n"
     ]
    }
   ],
   "source": [
    "calculate_metrics(pred.reshape(-1), test_labels)"
   ]
  }
 ],
 "metadata": {
  "kernelspec": {
   "display_name": "Python 3",
   "language": "python",
   "name": "python3"
  },
  "language_info": {
   "codemirror_mode": {
    "name": "ipython",
    "version": 3
   },
   "file_extension": ".py",
   "mimetype": "text/x-python",
   "name": "python",
   "nbconvert_exporter": "python",
   "pygments_lexer": "ipython3",
   "version": "3.6.6"
  }
 },
 "nbformat": 4,
 "nbformat_minor": 2
}
